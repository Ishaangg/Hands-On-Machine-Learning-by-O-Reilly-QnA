{
  "nbformat": 4,
  "nbformat_minor": 0,
  "metadata": {
    "colab": {
      "provenance": []
    },
    "kernelspec": {
      "name": "python3",
      "display_name": "Python 3"
    },
    "language_info": {
      "name": "python"
    }
  },
  "cells": [
    {
      "cell_type": "markdown",
      "source": [
        "# **Q1. How would you define Machine Learning?**"
      ],
      "metadata": {
        "id": "cXQZDJgQheUu"
      }
    },
    {
      "cell_type": "markdown",
      "source": [
        "Machine Learning is technique by which we make a machine to learn from data and make predictions and decisions without being explicitely pragrammed for a specific task."
      ],
      "metadata": {
        "id": "VmpYclT_heaj"
      }
    },
    {
      "cell_type": "markdown",
      "source": [
        "#**Q2. Can you name four types of problems where it shines?**"
      ],
      "metadata": {
        "id": "7GBRpmaHi_fR"
      }
    },
    {
      "cell_type": "markdown",
      "source": [
        "1. Regression Problems - It is used in predicting continuous output. Eg. Predicting stock market trends, house prices and temperature forecasting\n",
        "\n",
        "2. Classification Problems - These involve categorizing Data into predifined Classes. Example. Spam Detection, Disease Diagnosis\n",
        "\n",
        "3. Clustering Problems - These Problems involves grouping similiar type of data together under a same predifined label. Eg. Customer Segmentation, anomaly detection.\n",
        "\n",
        "4. Reinforcement Learning Problems - These involves learning optimal actions through trail and error to maximize a reward. Eg. AlphaGo, Robotics"
      ],
      "metadata": {
        "id": "BHZWQtrri_cX"
      }
    },
    {
      "cell_type": "markdown",
      "source": [
        "# **Q3. What is labeled training set?**"
      ],
      "metadata": {
        "id": "ee3y8Wc4i_Zk"
      }
    },
    {
      "cell_type": "markdown",
      "source": [
        "A labeled training set is a dataset used in machine learning that contains input-output pairs, where each input is associated with a corresponding output label. This dataset is used to train a machine learning model, allowing the model to learn the relationship between the inputs and their corresponding labels."
      ],
      "metadata": {
        "id": "Pl0sEd7bi_UL"
      }
    },
    {
      "cell_type": "markdown",
      "source": [
        "#**Q4.What are the two most common supervised tasks?**"
      ],
      "metadata": {
        "id": "s2kyj-VQi_Rm"
      }
    },
    {
      "cell_type": "markdown",
      "source": [
        "1. Email Spam Detection:\n",
        "Email spam detection is the process of identifying and filtering out unwanted or unsolicited emails, commonly known as spam, from a user's inbox. This is crucial for maintaining a clean and relevant email environment.\n",
        "\n",
        "2. Image Classification Overview:\n",
        "In image classification, the goal is to assign a label or category to an image based on its content. This involves training a model to recognize patterns and features in images so it can accurately classify new, unseen images into predefined categories.\n"
      ],
      "metadata": {
        "id": "TdEHAse-i_MA"
      }
    },
    {
      "cell_type": "markdown",
      "source": [
        "#**Q5. Can you name four common unsupervised tasks?**\n"
      ],
      "metadata": {
        "id": "X9s0ZxaEi_Dt"
      }
    },
    {
      "cell_type": "markdown",
      "source": [
        "1. Clustering : Group similar data points into clusters without predefined labels. The goal is to discover inherent groupings in the data. Clustering is considered an unsupervised learning task because it involves grouping data points into clusters without prior knowledge of any labels or categories.\n",
        "\n",
        "2. Dimensionality Reduction: Reduce the number of features in the data while preserving as much variability or structure as possible. This helps in visualizing data and improving computational efficiency.\n",
        "\n",
        "3. Association Rule Learning: Anomaly detection algorithms can identify unusual transactions in financial data that deviate significantly from normal patterns.\n",
        "\n",
        "4. Anomaly Detection: Anomaly detection algorithms can identify unusual transactions in financial data that deviate significantly from normal patterns. For example, unusual spending patterns on a credit card might indicate potential fraud, and the system can flag these transactions for further review.\n"
      ],
      "metadata": {
        "id": "6YbVX-8uyuA6"
      }
    },
    {
      "cell_type": "markdown",
      "source": [
        "#**Q6. What type of Machine Learning algorithm would you use to allow a robot to walk in various unknown terrains?**"
      ],
      "metadata": {
        "id": "2tZlTl8uyt53"
      }
    },
    {
      "cell_type": "markdown",
      "source": [
        "To allow a robot to walk in various unknown terrains, I would use Reinforcement Learning. The robot will learn through trail and error method. Over time, it learns optimal walking strategies that maximize its performance across diverse terrains.  "
      ],
      "metadata": {
        "id": "idfZFOD_yt2X"
      }
    },
    {
      "cell_type": "markdown",
      "source": [
        "#**Q7. What type of algorithm would you use to segment your customers into multiple groups?**"
      ],
      "metadata": {
        "id": "bbznTLwjytzk"
      }
    },
    {
      "cell_type": "markdown",
      "source": [
        "Unsupervised Algorithm such as K-means Clustering or Heirarchichal clustering can be very helpful in segmenting customers into multiple groups\n",
        "\n",
        "\n"
      ],
      "metadata": {
        "id": "AMQaAuc53EMA"
      }
    },
    {
      "cell_type": "markdown",
      "source": [
        "#**Q8. Would you frame the problem of spam detection as a supervised learning problem or an unsupervised learning problem?**"
      ],
      "metadata": {
        "id": "hPxLdXBy3EFn"
      }
    },
    {
      "cell_type": "markdown",
      "source": [
        "\n",
        "In spam detection, you usually have a dataset of emails that are already labeled as either \"spam\" or \"not spam\" (ham). These labels are used to train the model. The algorithm learns to differentiate between spam and non-spam emails by analyzing the features of the emails (e.g., content, sender, subject line) and their corresponding labels. So Spam Detection is indeed a supervised learning problem\n"
      ],
      "metadata": {
        "id": "obU0bulEytws"
      }
    },
    {
      "cell_type": "markdown",
      "source": [
        "\n",
        "#**Q9. What is an online learning system?**\n"
      ],
      "metadata": {
        "id": "_2yuwB_9ytto"
      }
    },
    {
      "cell_type": "markdown",
      "source": [
        "Online learning refers to a machine learning paradigm where the model is continuously updated with new data as it becomes available, even while the system is in deployment. This is in contrast to traditional batch learning, where the model is trained on a fixed dataset and then deployed without further updates.\n"
      ],
      "metadata": {
        "id": "X3TLIjCWytq1"
      }
    },
    {
      "cell_type": "markdown",
      "source": [
        "#**Q10. What is out of core learning?**|\n"
      ],
      "metadata": {
        "id": "4y5_FgVtytnB"
      }
    },
    {
      "cell_type": "markdown",
      "source": [
        "Out-of-core learning refers to a machine learning technique used for training models on datasets that are too large to fit into the computer's main memory (RAM) all at once. Instead of loading the entire dataset into memory, out-of-core learning processes the data in chunks, enabling the model to learn from very large datasets without exceeding memory limitations."
      ],
      "metadata": {
        "id": "A5B9EimHAwMB"
      }
    },
    {
      "cell_type": "markdown",
      "source": [
        "**bold text**"
      ],
      "metadata": {
        "id": "axdlhbCrAwIi"
      }
    },
    {
      "cell_type": "markdown",
      "source": [
        "#**Q11. What type of learning algorithm relies on a similarity measure to make predictions?**"
      ],
      "metadata": {
        "id": "izUZ0ZkXAwFw"
      }
    },
    {
      "cell_type": "markdown",
      "source": [
        "\n",
        "The type of learning algorithm that relies on a similarity measure to make predictions is called a k-Nearest Neighbors (k-NN) algorithm.\n",
        "\n",
        "The algorithm makes predictions based on the similarity between data points, typically measured using distance metrics such as:\n",
        "\n",
        "1. Euclidean Distance: The straight-line distance between two points in Euclidean space.\n",
        "\n",
        "2. Manhattan Distance: The sum of the absolute differences of their coordinates.\n",
        "\n",
        "3. Cosine Similarity: Measures the cosine of the angle between two non-zero vectors, often used in text classification."
      ],
      "metadata": {
        "id": "ffqFOUXLAv8A"
      }
    },
    {
      "cell_type": "markdown",
      "source": [
        "#**Q12. What is the difference between a model parameter and a learning algorithm’s hyperparameter?**"
      ],
      "metadata": {
        "id": "zrQA2utLAv5A"
      }
    },
    {
      "cell_type": "markdown",
      "source": [
        "Model Parameter: Every Models has one or more than one paramenters and they are the internal variables of that model. These are the values that the algorithm can adjust during traning process to minimize the loss function. They are not set manually, instead the learning algorithm optimize that.\n",
        "For Eg. Linear regression has the equation y = mx + c, where m(Slope) and c(y-intercept) are the model parameters that can be changed by the algorithm while learning on the training data.\n",
        "\n",
        "Hyperparameter: Hyperparameters are not associated with models rather they are associated with the algorithm itself. They are external configurations of the learning process itself. They are not learned from the data but are set before the training process begins. They are manually set and requires tuning. They are generally used as overfitting and underfitting solutions.\n"
      ],
      "metadata": {
        "id": "bJ0zuiaMFKet"
      }
    },
    {
      "cell_type": "markdown",
      "source": [
        "#**Q13. What do model-based learning algorithms search for? What is the most common strategy they use to succeed? How do they make predictions?**"
      ],
      "metadata": {
        "id": "SoKZNkyaKN5a"
      }
    },
    {
      "cell_type": "markdown",
      "source": [
        "Model Based Learning aims to find the best possible model that can generalize well from the training data to unseen data.\n",
        "\n",
        "Model Based Learning Algorithm search for the following:\n",
        "\n",
        "1. Optimal Model Parameters: The main goal of a model based algorithm is to find the optimal set of model parameters to minimize the difference between the predictions made by the model and the actual outcome in the training data.\n",
        "\n",
        "2. Best fitting Hypothesis: Hypothesis refers to the model's specific function or decision boundary. Model-based learning algorithms search for the hypothesis that best explains the data. This involves finding the function that minimizes the loss function, a measure of how well the model’s predictions match the actual outcomes.\n",
        "\n",
        "The Most common stratergy used in the model based learning is by calculating the gradient descent. Gradient descent iteratively adjusts the model parameters in the direction that reduces the loss until convergence to an optimal or near-optimal solution.\n",
        "\n",
        "Once the optimal parameters are found during training, the model-based algorithm uses the resulting model to make predictions on new, unseen data. The model applies the learned hypothesis (e.g., a decision boundary in a classification problem, a regression line in a regression problem) to the input features of the new data."
      ],
      "metadata": {
        "id": "MCEW1hkIKN2Z"
      }
    },
    {
      "cell_type": "markdown",
      "source": [
        "#**Q14. Can you name four of the main challenges in Machine Learning?**"
      ],
      "metadata": {
        "id": "OD9_HSQXKPQT"
      }
    },
    {
      "cell_type": "markdown",
      "source": [
        "1. Overfitting and Underfitting\n",
        "\n",
        "Overfitting: Occurs when a model learns the training data too well, including its noise and outliers, leading to poor generalization to new, unseen data. The model becomes too complex and captures patterns that do not generalize.\n",
        "\n",
        "Underfitting: Happens when a model is too simple to capture the underlying structure of the data, resulting in poor performance on both the training and test data. The model fails to learn the important patterns.\n",
        "\n",
        "2. Data Quality and Quantity\n",
        "\n",
        "Data Quality: Poor-quality data, such as data with missing values, outliers, or noise, can lead to inaccurate models. Models trained on biased or incomplete data may produce unreliable predictions.\n",
        "\n",
        "Data Quantity: Machine learning models typically require large amounts of data to perform well. Insufficient data can lead to models that don't generalize well, particularly in complex tasks like deep learning."
      ],
      "metadata": {
        "id": "8jXqvke0KNzQ"
      }
    },
    {
      "cell_type": "markdown",
      "source": [
        "#**Q15. If your model performs great on the training data but generalizes poorly to new instances, what is happening? Can you name three possible solutions?**"
      ],
      "metadata": {
        "id": "q1xTR8n-KNrE"
      }
    },
    {
      "cell_type": "markdown",
      "source": [
        "When the model performs grest on the training dataset and poorly on the new instances, overfitting might be the reason. The model is trained too well on all the training dataset so as so that it cannot make accurate predictiond on the new data points or instances.\n",
        "\n",
        "Solutions:\n",
        "\n",
        "1. The model's paramenters should reduce to avoid the issue of overfitting\n",
        "\n",
        "2. The model's parameters should have contraints or regularizations.\n",
        "\n",
        "3. Hyperparameters should be used to avoid overfitting. Proper tuning must be done of the hyperparameters\n"
      ],
      "metadata": {
        "id": "U_bNyTlMKNnY"
      }
    },
    {
      "cell_type": "markdown",
      "source": [
        "#**Q16. What is a test set, and why would you want to use it?**"
      ],
      "metadata": {
        "id": "eX9B_F3ZihAR"
      }
    },
    {
      "cell_type": "markdown",
      "source": [
        "We do not want to test the prediction accuracy of the model after it's been deployed so, we use a small part(maybe 20 percent) of the whole dataset as a test dataset on which the algorithm is been tested."
      ],
      "metadata": {
        "id": "mlj1kgPAig9Z"
      }
    },
    {
      "cell_type": "markdown",
      "source": [
        "#**Q17. What is the purpose of a validation set?**"
      ],
      "metadata": {
        "id": "fbkaD9d2ig6e"
      }
    },
    {
      "cell_type": "markdown",
      "source": [
        "The purpose of a validation set in machine learning is to evaluate the performance of a model during the training process, enabling the tuning of hyperparameters and selection of the best model configuration. The validation set helps ensure that the model generalizes well to new, unseen data by preventing overfitting to the training data.\n",
        "\n",
        "The validation set is used to fine-tune the hyperparameters of the model. Since hyperparameters are not learned from the training data, they need to be set manually. The validation set provides a way to evaluate different hyperparameter settings, helping to find the best combination that maximizes the model's performance."
      ],
      "metadata": {
        "id": "RrU82vVkig3N"
      }
    },
    {
      "cell_type": "markdown",
      "source": [
        "#**Q18. What is the train-dev set, when do you need it, and how do you use it?**"
      ],
      "metadata": {
        "id": "vFyI26vnigyh"
      }
    },
    {
      "cell_type": "markdown",
      "source": [
        "The train-dev set (also known as the development set or training-development set) is an additional dataset used in machine learning to help diagnose whether a model's poor performance is due to overfitting or to a mismatch between the training data and the validation/test data.\n",
        "\n",
        "A train-dev set is particularly useful when you suspect that there might be a difference in the distribution of the training data and the validation/test data. This situation often arises when the training data comes from a different source or is collected under different conditions compared to the validation/test data."
      ],
      "metadata": {
        "id": "qD7i9Qn3sJqp"
      }
    },
    {
      "cell_type": "markdown",
      "source": [
        "#**Q19. What can go wrong if you tune hyperparameters using the test set?**"
      ],
      "metadata": {
        "id": "h9spqRiTsKEL"
      }
    },
    {
      "cell_type": "markdown",
      "source": [
        "When hyperparameters are tuned using the test set, the model effectively \"learns\" from the test set data. This means that the model is not being evaluated on truly unseen data but on data that has influenced the hyperparameter selection process.\n",
        "\n",
        "The test set is meant to be a final, independent evaluation of the model's performance. If hyperparameters are tuned on the test set, it loses its role as an unbiased evaluation set."
      ],
      "metadata": {
        "id": "cmxDwREMsdct"
      }
    }
  ]
}